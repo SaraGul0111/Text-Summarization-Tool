{
 "cells": [
  {
   "cell_type": "code",
   "execution_count": 1,
   "metadata": {},
   "outputs": [
    {
     "name": "stderr",
     "output_type": "stream",
     "text": [
      "c:\\Users\\Home\\anaconda3\\envs\\DLassignment2\\Lib\\site-packages\\tqdm\\auto.py:21: TqdmWarning: IProgress not found. Please update jupyter and ipywidgets. See https://ipywidgets.readthedocs.io/en/stable/user_install.html\n",
      "  from .autonotebook import tqdm as notebook_tqdm\n"
     ]
    }
   ],
   "source": [
    "import tkinter as tk\n",
    "from tkinter import scrolledtext\n",
    "from transformers import T5ForConditionalGeneration, T5Tokenizer\n",
    "\n",
    "# Load the fine-tuned model and tokenizer\n",
    "model = T5ForConditionalGeneration.from_pretrained('./fine_tuned_t5')\n",
    "tokenizer = T5Tokenizer.from_pretrained('./fine_tuned_t5')\n",
    "\n",
    "# Function to summarize text\n",
    "def summarize_text(text, max_length=500, num_beams=4):\n",
    "    inputs = tokenizer.encode(\"summarize: \" + text, return_tensors=\"pt\", max_length=512, truncation=True)\n",
    "    summary_ids = model.generate(inputs, max_length=max_length, num_beams=num_beams, early_stopping=True)\n",
    "    summary = tokenizer.decode(summary_ids[0], skip_special_tokens=True)\n",
    "    return summary\n",
    "\n",
    "# Function to handle the button click event\n",
    "def on_summarize_button_click():\n",
    "    input_text = input_text_box.get(\"1.0\", tk.END)  # Get text from the input box\n",
    "    summary = summarize_text(input_text)  # Get the summary\n",
    "    output_text_box.delete(\"1.0\", tk.END)  # Clear any previous output\n",
    "    output_text_box.insert(tk.END, summary)  # Display the summary\n",
    "\n",
    "# Create the main window\n",
    "window = tk.Tk()\n",
    "window.title(\"Text Summarization Tool\")\n",
    "\n",
    "# Set window size and background color\n",
    "window.geometry(\"700x500\")\n",
    "window.configure(bg='#F0F8FF')\n",
    "\n",
    "# Frame for better organization\n",
    "frame = tk.Frame(window, bg='#F0F8FF')\n",
    "frame.pack(pady=20, padx=20, fill=tk.BOTH, expand=True)\n",
    "\n",
    "# Label for the input section with custom font and color\n",
    "input_label = tk.Label(frame, text=\"Enter Text to Summarize:\", font=(\"Helvetica\", 14), bg='#F0F8FF', fg=\"#4B0082\")\n",
    "input_label.pack(pady=10)\n",
    "\n",
    "# Frame for the input text box with scrollbars\n",
    "input_frame = tk.Frame(frame)\n",
    "input_frame.pack(pady=10)\n",
    "\n",
    "# Scrolled text box for the input with vertical and horizontal scrollbars\n",
    "input_text_box = scrolledtext.ScrolledText(input_frame, width=75, height=10, wrap=tk.WORD, font=(\"Arial\", 12), bg=\"#E6E6FA\", fg=\"black\", bd=2)\n",
    "input_text_box.pack(side=tk.LEFT, fill=tk.BOTH, expand=True)\n",
    "\n",
    "# Button to trigger summarization with custom color and font\n",
    "summarize_button = tk.Button(frame, text=\"Summarize\", command=on_summarize_button_click, font=(\"Helvetica\", 14), bg=\"#4B0082\", fg=\"white\", relief=tk.RAISED)\n",
    "summarize_button.pack(pady=10)\n",
    "\n",
    "# Label for the output section with custom font and color\n",
    "output_label = tk.Label(frame, text=\"Summary:\", font=(\"Helvetica\", 14), bg='#F0F8FF', fg=\"#4B0082\")\n",
    "output_label.pack(pady=10)\n",
    "\n",
    "# Frame for the output text box with scrollbars\n",
    "output_frame = tk.Frame(frame)\n",
    "output_frame.pack(pady=10)\n",
    "\n",
    "# Scrolled text box for the output with vertical and horizontal scrollbars\n",
    "output_text_box = scrolledtext.ScrolledText(output_frame, width=75, height=10, wrap=tk.WORD, font=(\"Arial\", 12), bg=\"#E6E6FA\", fg=\"black\", bd=2)\n",
    "output_text_box.pack(side=tk.LEFT, fill=tk.BOTH, expand=True)\n",
    "\n",
    "# Start the Tkinter event loop\n",
    "window.mainloop()\n"
   ]
  }
 ],
 "metadata": {
  "kernelspec": {
   "display_name": "DLassignment2",
   "language": "python",
   "name": "python3"
  },
  "language_info": {
   "codemirror_mode": {
    "name": "ipython",
    "version": 3
   },
   "file_extension": ".py",
   "mimetype": "text/x-python",
   "name": "python",
   "nbconvert_exporter": "python",
   "pygments_lexer": "ipython3",
   "version": "3.12.3"
  }
 },
 "nbformat": 4,
 "nbformat_minor": 2
}
